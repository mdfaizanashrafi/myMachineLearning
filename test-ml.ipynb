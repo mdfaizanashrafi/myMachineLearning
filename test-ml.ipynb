{
 "cells": [
  {
   "cell_type": "code",
   "execution_count": 3,
   "id": "80166a81",
   "metadata": {},
   "outputs": [],
   "source": [
    "import numpy as np\n",
    "import pandas as pd\n",
    "import matplotlib.pyplot as plt\n",
    "from sklearn.preprocessing import StandardScaler\n",
    "from imblearn.over_sampling import RandomOverSampler\n"
   ]
  },
  {
   "cell_type": "code",
   "execution_count": 4,
   "id": "1a03f45b",
   "metadata": {},
   "outputs": [
    {
     "name": "stderr",
     "output_type": "stream",
     "text": [
      "d:\\Python\\myMachineLearning\\myenv\\Lib\\site-packages\\numpy\\_core\\fromnumeric.py:57: FutureWarning: 'DataFrame.swapaxes' is deprecated and will be removed in a future version. Please use 'DataFrame.transpose' instead.\n",
      "  return bound(*args, **kwds)\n"
     ]
    }
   ],
   "source": [
    "cols=[\"fLength\",\"fWidth\",\"fSize\",\"fConc\",\"fConc1\",\"fAsym\",\"fM3Long\",\"fM3Trans\",\"fAlpha\",\"fDist\",\"class\"]\n",
    "df = pd.read_csv(\"magic04.data\",names=cols)\n",
    "df.head()\n",
    "\n",
    "df[\"class\"]=(df[\"class\"]==\"g\").astype(int)\n",
    "\n",
    "train, valid, test = np.split(df.sample(frac=1),[int(0.6*len(df)), int (0.8*len(df))])\n"
   ]
  },
  {
   "cell_type": "code",
   "execution_count": 5,
   "id": "10aadb59",
   "metadata": {},
   "outputs": [],
   "source": [
    "def scale_dataset(dataframe,oversample=False):\n",
    "    x=dataframe[dataframe.columns[:-1]].values\n",
    "    y=dataframe[dataframe.columns[-1]].values\n",
    "\n",
    "    scaler=StandardScaler()\n",
    "    x=scaler.fit_transform(x)\n",
    "\n",
    "    if oversample:\n",
    "        ros=RandomOverSampler()\n",
    "        x,y=ros.fit_resample(x,y)\n",
    "\n",
    "    data=np.hstack((x,np.reshape(y,(-1,1))))\n",
    "\n",
    "    return data, x, y"
   ]
  },
  {
   "cell_type": "code",
   "execution_count": 6,
   "id": "1ba25b4a",
   "metadata": {},
   "outputs": [],
   "source": [
    "train, x_train, y_train = scale_dataset(train, oversample=True)\n",
    "valid, x_valid, y_valid = scale_dataset(valid, oversample=False)\n",
    "test, x_test, y_test = scale_dataset(test, oversample=False)"
   ]
  },
  {
   "cell_type": "code",
   "execution_count": 7,
   "id": "308ee186",
   "metadata": {},
   "outputs": [
    {
     "name": "stdout",
     "output_type": "stream",
     "text": [
      "              precision    recall  f1-score   support\n",
      "\n",
      "           0       0.73      0.76      0.74      1327\n",
      "           1       0.87      0.85      0.86      2477\n",
      "\n",
      "    accuracy                           0.82      3804\n",
      "   macro avg       0.80      0.80      0.80      3804\n",
      "weighted avg       0.82      0.82      0.82      3804\n",
      "\n"
     ]
    }
   ],
   "source": [
    "from sklearn.neighbors import KNeighborsClassifier\n",
    "from sklearn.metrics import classification_report\n",
    "\n",
    "knn_model = KNeighborsClassifier(n_neighbors=10)\n",
    "knn_model.fit(x_train,y_train)\n",
    "\n",
    "y_pred = knn_model.predict(x_test)\n",
    "\n",
    "print(classification_report(y_test,y_pred))"
   ]
  },
  {
   "cell_type": "markdown",
   "id": "bf01a3b4",
   "metadata": {},
   "source": [
    "#Naive Bayes"
   ]
  },
  {
   "cell_type": "code",
   "execution_count": 9,
   "id": "6db515a9",
   "metadata": {},
   "outputs": [
    {
     "name": "stdout",
     "output_type": "stream",
     "text": [
      "              precision    recall  f1-score   support\n",
      "\n",
      "           0       0.65      0.41      0.50      1327\n",
      "           1       0.74      0.88      0.80      2477\n",
      "\n",
      "    accuracy                           0.72      3804\n",
      "   macro avg       0.69      0.64      0.65      3804\n",
      "weighted avg       0.70      0.72      0.70      3804\n",
      "\n"
     ]
    }
   ],
   "source": [
    "from sklearn.naive_bayes import  GaussianNB\n",
    "\n",
    "ng_model = GaussianNB()\n",
    "nb_model = ng_model.fit(x_train,y_train)\n",
    "\n",
    "y_pred = nb_model.predict(x_test)\n",
    "\n",
    "print(classification_report(y_test,y_pred))"
   ]
  },
  {
   "cell_type": "code",
   "execution_count": 11,
   "id": "f716291f",
   "metadata": {},
   "outputs": [],
   "source": [
    "#Log Regression"
   ]
  },
  {
   "cell_type": "code",
   "execution_count": 12,
   "id": "d131c610",
   "metadata": {},
   "outputs": [],
   "source": [
    "from sklearn.linear_model import LogisticRegression"
   ]
  },
  {
   "cell_type": "code",
   "execution_count": 14,
   "id": "d99c816e",
   "metadata": {},
   "outputs": [],
   "source": [
    "lg_model = LogisticRegression()\n",
    "lg_model= lg_model.fit(x_train,y_train)\n"
   ]
  },
  {
   "cell_type": "code",
   "execution_count": 15,
   "id": "da352034",
   "metadata": {},
   "outputs": [
    {
     "name": "stdout",
     "output_type": "stream",
     "text": [
      "              precision    recall  f1-score   support\n",
      "\n",
      "           0       0.68      0.72      0.70      1327\n",
      "           1       0.85      0.82      0.83      2477\n",
      "\n",
      "    accuracy                           0.78      3804\n",
      "   macro avg       0.76      0.77      0.76      3804\n",
      "weighted avg       0.79      0.78      0.78      3804\n",
      "\n"
     ]
    }
   ],
   "source": [
    "y_pred= lg_model.predict(x_test)\n",
    "print(classification_report(y_test,y_pred))"
   ]
  },
  {
   "cell_type": "markdown",
   "id": "23567766",
   "metadata": {},
   "source": [
    "#Support Vector Machines (SVM)"
   ]
  },
  {
   "cell_type": "code",
   "execution_count": 16,
   "id": "f36d41d7",
   "metadata": {},
   "outputs": [],
   "source": [
    "from sklearn.svm import SVC"
   ]
  },
  {
   "cell_type": "code",
   "execution_count": 17,
   "id": "f9f5081e",
   "metadata": {},
   "outputs": [],
   "source": [
    "svm_model = SVC()\n",
    "svm_model = svm_model.fit(x_train,y_train)\n"
   ]
  },
  {
   "cell_type": "code",
   "execution_count": 18,
   "id": "5ea09665",
   "metadata": {},
   "outputs": [
    {
     "name": "stdout",
     "output_type": "stream",
     "text": [
      "              precision    recall  f1-score   support\n",
      "\n",
      "           0       0.79      0.80      0.79      1327\n",
      "           1       0.89      0.89      0.89      2477\n",
      "\n",
      "    accuracy                           0.85      3804\n",
      "   macro avg       0.84      0.84      0.84      3804\n",
      "weighted avg       0.86      0.85      0.86      3804\n",
      "\n"
     ]
    }
   ],
   "source": [
    "y_pred = svm_model.predict(x_test)\n",
    "print(classification_report(y_test,y_pred))"
   ]
  },
  {
   "cell_type": "markdown",
   "id": "61dae821",
   "metadata": {},
   "source": [
    "#Neural Network\n",
    "#TensorFLow"
   ]
  },
  {
   "cell_type": "code",
   "execution_count": null,
   "id": "db2c3e6a",
   "metadata": {},
   "outputs": [],
   "source": [
    "import tensorflow as tf"
   ]
  }
 ],
 "metadata": {
  "kernelspec": {
   "display_name": "myenv",
   "language": "python",
   "name": "python3"
  },
  "language_info": {
   "codemirror_mode": {
    "name": "ipython",
    "version": 3
   },
   "file_extension": ".py",
   "mimetype": "text/x-python",
   "name": "python",
   "nbconvert_exporter": "python",
   "pygments_lexer": "ipython3",
   "version": "3.12.8"
  }
 },
 "nbformat": 4,
 "nbformat_minor": 5
}
