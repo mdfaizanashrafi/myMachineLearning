{
 "cells": [
  {
   "cell_type": "code",
   "execution_count": 37,
   "id": "80166a81",
   "metadata": {},
   "outputs": [],
   "source": [
    "import numpy as np\n",
    "import pandas as pd\n",
    "import matplotlib.pyplot as plt\n",
    "from sklearn.preprocessing import StandardScaler\n",
    "from imblearn.over_sampling import RandomOverSampler\n"
   ]
  },
  {
   "cell_type": "code",
   "execution_count": 38,
   "id": "1a03f45b",
   "metadata": {},
   "outputs": [
    {
     "name": "stderr",
     "output_type": "stream",
     "text": [
      "d:\\Python\\myMachineLearning\\myenv\\Lib\\site-packages\\numpy\\_core\\fromnumeric.py:57: FutureWarning: 'DataFrame.swapaxes' is deprecated and will be removed in a future version. Please use 'DataFrame.transpose' instead.\n",
      "  return bound(*args, **kwds)\n"
     ]
    }
   ],
   "source": [
    "cols=[\"fLength\",\"fWidth\",\"fSize\",\"fConc\",\"fConc1\",\"fAsym\",\"fM3Long\",\"fM3Trans\",\"fAlpha\",\"fDist\",\"class\"]\n",
    "df = pd.read_csv(\"magic04.data\",names=cols)\n",
    "df.head()\n",
    "\n",
    "df[\"class\"]=(df[\"class\"]==\"g\").astype(int)\n",
    "\n",
    "train, valid, test = np.split(df.sample(frac=1),[int(0.6*len(df)), int (0.8*len(df))])\n"
   ]
  },
  {
   "cell_type": "code",
   "execution_count": 39,
   "id": "10aadb59",
   "metadata": {},
   "outputs": [],
   "source": [
    "def scale_dataset(dataframe,oversample=False):\n",
    "    x=dataframe[dataframe.columns[:-1]].values\n",
    "    y=dataframe[dataframe.columns[-1]].values\n",
    "\n",
    "    scaler=StandardScaler()\n",
    "    x=scaler.fit_transform(x)\n",
    "\n",
    "    if oversample:\n",
    "        ros=RandomOverSampler()\n",
    "        x,y=ros.fit_resample(x,y)\n",
    "\n",
    "    data=np.hstack((x,np.reshape(y,(-1,1))))\n",
    "\n",
    "    return data, x, y"
   ]
  },
  {
   "cell_type": "code",
   "execution_count": 40,
   "id": "1ba25b4a",
   "metadata": {},
   "outputs": [],
   "source": [
    "train, x_train, y_train = scale_dataset(train, oversample=True)\n",
    "valid, x_valid, y_valid = scale_dataset(valid, oversample=False)\n",
    "test, x_test, y_test = scale_dataset(test, oversample=False)"
   ]
  },
  {
   "cell_type": "code",
   "execution_count": 41,
   "id": "308ee186",
   "metadata": {},
   "outputs": [
    {
     "name": "stdout",
     "output_type": "stream",
     "text": [
      "              precision    recall  f1-score   support\n",
      "\n",
      "           0       0.72      0.77      0.75      1352\n",
      "           1       0.87      0.84      0.85      2452\n",
      "\n",
      "    accuracy                           0.81      3804\n",
      "   macro avg       0.80      0.80      0.80      3804\n",
      "weighted avg       0.82      0.81      0.81      3804\n",
      "\n"
     ]
    }
   ],
   "source": [
    "from sklearn.neighbors import KNeighborsClassifier\n",
    "from sklearn.metrics import classification_report\n",
    "\n",
    "knn_model = KNeighborsClassifier(n_neighbors=10)\n",
    "knn_model.fit(x_train,y_train)\n",
    "\n",
    "y_pred = knn_model.predict(x_test)\n",
    "\n",
    "print(classification_report(y_test,y_pred))"
   ]
  },
  {
   "cell_type": "markdown",
   "id": "bf01a3b4",
   "metadata": {},
   "source": [
    "#Naive Bayes"
   ]
  },
  {
   "cell_type": "code",
   "execution_count": 42,
   "id": "6db515a9",
   "metadata": {},
   "outputs": [
    {
     "name": "stdout",
     "output_type": "stream",
     "text": [
      "              precision    recall  f1-score   support\n",
      "\n",
      "           0       0.69      0.41      0.52      1352\n",
      "           1       0.73      0.90      0.81      2452\n",
      "\n",
      "    accuracy                           0.72      3804\n",
      "   macro avg       0.71      0.65      0.66      3804\n",
      "weighted avg       0.72      0.72      0.70      3804\n",
      "\n"
     ]
    }
   ],
   "source": [
    "from sklearn.naive_bayes import  GaussianNB\n",
    "\n",
    "ng_model = GaussianNB()\n",
    "nb_model = ng_model.fit(x_train,y_train)\n",
    "\n",
    "y_pred = nb_model.predict(x_test)\n",
    "\n",
    "print(classification_report(y_test,y_pred))"
   ]
  },
  {
   "cell_type": "code",
   "execution_count": 43,
   "id": "f716291f",
   "metadata": {},
   "outputs": [],
   "source": [
    "#Log Regression"
   ]
  },
  {
   "cell_type": "code",
   "execution_count": 44,
   "id": "d131c610",
   "metadata": {},
   "outputs": [],
   "source": [
    "from sklearn.linear_model import LogisticRegression"
   ]
  },
  {
   "cell_type": "code",
   "execution_count": 45,
   "id": "d99c816e",
   "metadata": {},
   "outputs": [],
   "source": [
    "lg_model = LogisticRegression()\n",
    "lg_model= lg_model.fit(x_train,y_train)\n"
   ]
  },
  {
   "cell_type": "code",
   "execution_count": 46,
   "id": "da352034",
   "metadata": {},
   "outputs": [
    {
     "name": "stdout",
     "output_type": "stream",
     "text": [
      "              precision    recall  f1-score   support\n",
      "\n",
      "           0       0.68      0.71      0.69      1352\n",
      "           1       0.84      0.81      0.82      2452\n",
      "\n",
      "    accuracy                           0.78      3804\n",
      "   macro avg       0.76      0.76      0.76      3804\n",
      "weighted avg       0.78      0.78      0.78      3804\n",
      "\n"
     ]
    }
   ],
   "source": [
    "y_pred= lg_model.predict(x_test)\n",
    "print(classification_report(y_test,y_pred))"
   ]
  },
  {
   "cell_type": "markdown",
   "id": "23567766",
   "metadata": {},
   "source": [
    "#Support Vector Machines (SVM)"
   ]
  },
  {
   "cell_type": "code",
   "execution_count": 47,
   "id": "f36d41d7",
   "metadata": {},
   "outputs": [],
   "source": [
    "from sklearn.svm import SVC"
   ]
  },
  {
   "cell_type": "code",
   "execution_count": 33,
   "id": "f9f5081e",
   "metadata": {},
   "outputs": [],
   "source": [
    "svm_model = SVC()\n",
    "svm_model = svm_model.fit(x_train,y_train)\n"
   ]
  },
  {
   "cell_type": "code",
   "execution_count": 34,
   "id": "5ea09665",
   "metadata": {},
   "outputs": [
    {
     "name": "stdout",
     "output_type": "stream",
     "text": [
      "              precision    recall  f1-score   support\n",
      "\n",
      "           0       0.81      0.79      0.80      1331\n",
      "           1       0.89      0.90      0.90      2473\n",
      "\n",
      "    accuracy                           0.86      3804\n",
      "   macro avg       0.85      0.85      0.85      3804\n",
      "weighted avg       0.86      0.86      0.86      3804\n",
      "\n"
     ]
    }
   ],
   "source": [
    "y_pred = svm_model.predict(x_test)\n",
    "print(classification_report(y_test,y_pred))"
   ]
  },
  {
   "cell_type": "markdown",
   "id": "61dae821",
   "metadata": {},
   "source": [
    "#Neural Network\n",
    "#TensorFLow"
   ]
  },
  {
   "cell_type": "code",
   "execution_count": 64,
   "id": "320bd3a9",
   "metadata": {},
   "outputs": [],
   "source": [
    "def plot_history(history):\n",
    "    fig, (ax1, ax2)= plt.subplots(1,2, figsize=(10,4))\n",
    "    ax1.plot(history.history['loss'],label='loss')\n",
    "    ax1.plot(history.history['val_loss'],label='val_loss')\n",
    "    ax1.set_xlabel('Epoch')\n",
    "    ax1.set_ylabel('Binary Crossentropy')\n",
    "    ax1.legend()\n",
    "    ax1.grid(True)\n",
    "    \n",
    "    ax2.plot(history.history['accuracy'],label='accuracy')\n",
    "    ax2.plot(history.history['val_accuracy'],label='val_accuracy')\n",
    "    ax2.set_xlabel('Epoch')\n",
    "    ax2.set_ylabel('Accuracy')\n",
    "    ax2.legend()\n",
    "    ax2.grid(True)\n",
    "\n",
    "    plt.show()\n",
    "    "
   ]
  },
  {
   "cell_type": "code",
   "execution_count": 65,
   "id": "88fbe142",
   "metadata": {},
   "outputs": [],
   "source": [
    "import tensorflow as tf\n",
    "\n",
    "def train_model(x_train,y_train,num_nodes,dropout_prob,lr,batch_size, epochs):\n",
    "    nn_model = tf.keras.Sequential([\n",
    "        tf.keras.layers.Dense(num_nodes, activation='relu', input_shape=(10,)),\n",
    "        tf.keras.layers.Dropout(dropout_prob),\n",
    "        tf.keras.layers.Dense(num_nodes, activation='relu'),\n",
    "        tf.keras.layers.Dropout(dropout_prob),\n",
    "        tf.keras.layers.Dense(1, activation='sigmoid')\n",
    "    ])\n",
    "\n",
    "    nn_model.compile(optimizer=tf.keras.optimizers.Adam(lr),loss= 'binary_crossentropy',metrics=['accuracy'])\n",
    "\n",
    "    history= nn_model.fit(\n",
    "        x_train,y_train,epochs=epochs,batch_size= batch_size, validation_split=0.2, verbose=0)\n",
    "\n",
    "    return nn_model, history"
   ]
  },
  {
   "cell_type": "code",
   "execution_count": null,
   "id": "9bb2dca5",
   "metadata": {},
   "outputs": [],
   "source": [
    "least_val_loss = float('inf')\n",
    "least_loss_model = None\n",
    "epochs=100\n",
    "for num_nodes in [16,32,64]:\n",
    "    for dropout_prob in [0, 0.2]:\n",
    "        for lr in [0.1, 0.005, 0.001]:\n",
    "            for batch_size in [32,64,128]:\n",
    "                print(f\"{num_nodes} nodes, dropout {dropout_prob}, lr {lr}, batch_size {batch_size}\")\n",
    "\n",
    "                model, history = train_model(x_train,y_train, num_nodes,dropout_prob,lr,batch_size,epochs)\n",
    "\n",
    "                plot_history(history)\n",
    "                val_loss = model.evaluate(x_valid,y_valid)[0]\n",
    "\n",
    "                if val_loss< least_val_loss:\n",
    "                    least_val_loss = val_loss\n",
    "                    least_loss_model = model\n",
    "                     \n"
   ]
  },
  {
   "cell_type": "markdown",
   "id": "02e796c8",
   "metadata": {},
   "source": [
    "#Linear Regression"
   ]
  },
  {
   "cell_type": "markdown",
   "id": "293ab3f9",
   "metadata": {},
   "source": []
  }
 ],
 "metadata": {
  "kernelspec": {
   "display_name": "myenv",
   "language": "python",
   "name": "python3"
  },
  "language_info": {
   "codemirror_mode": {
    "name": "ipython",
    "version": 3
   },
   "file_extension": ".py",
   "mimetype": "text/x-python",
   "name": "python",
   "nbconvert_exporter": "python",
   "pygments_lexer": "ipython3",
   "version": "3.12.8"
  }
 },
 "nbformat": 4,
 "nbformat_minor": 5
}
